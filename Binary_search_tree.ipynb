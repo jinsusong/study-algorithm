{
  "nbformat": 4,
  "nbformat_minor": 0,
  "metadata": {
    "colab": {
      "name": "Binary search tree.ipynb",
      "private_outputs": true,
      "provenance": [],
      "authorship_tag": "ABX9TyNsTDO4rO3LI/287/epEXwg",
      "include_colab_link": true
    },
    "kernelspec": {
      "name": "python3",
      "display_name": "Python 3"
    },
    "language_info": {
      "name": "python"
    }
  },
  "cells": [
    {
      "cell_type": "markdown",
      "metadata": {
        "id": "view-in-github",
        "colab_type": "text"
      },
      "source": [
        "<a href=\"https://colab.research.google.com/github/jinsusong/study-algorithm/blob/main/Binary_search_tree.ipynb\" target=\"_parent\"><img src=\"https://colab.research.google.com/assets/colab-badge.svg\" alt=\"Open In Colab\"/></a>"
      ]
    },
    {
      "cell_type": "markdown",
      "source": [
        "# Binary search tree"
      ],
      "metadata": {
        "id": "j2v206_8w4uZ"
      }
    },
    {
      "cell_type": "markdown",
      "source": [
        "![image.png](data:image/png;base64,iVBORw0KGgoAAAANSUhEUgAAAPoAAADHCAYAAAAwCE5OAAAgAElEQVR4nO3deXxU1d0/8M/sM0lm7jozgYBBdiRoWJQdRWWTQJGmaGkFfmpt1Rap2lq1ah9t62OtGhdwwaJlqzwFw75EUWSLbMoOEsJOyDaTWZKZJLOc3x+XSAjb3MnM3Ek479drXkqSe+/3nDln7rlnzgJQFEVRFEVRFEVRFEVRFJUQKqUDoOLODGCoXq/vy7JsX5VKZQGQCsBTX19/vKqq6jsAWwDsB0CUDJSKH1rRWyctgJ/abLYn6uvrew0bNiw4cOBAS7du3dRmsxlGoxF+vx+nT5/GwYMH69atW1dz4sQJtU6nW1RVVfUmgCNKJ4CiqKvQaDT3WSyWc6NGjXJ/8cUXJBQKkUiUlZWRt956K2iz2TyCICwD0F7ptFAUdSkry7Lf9OvXz7N3796IKvfl1NfXk7fffjvIMIzbaDQ+rHSiKIq6IMtisZS//vrrdeFwOOpK3tiZM2dI3759PRzHzQOgUTqBFHW968WyrPOrr76KTQ1vJBAIkEmTJlVzHLcKtLJTlGJuYBimorCwMNZ1/EfhcJhMnjy5WhCEOUonlqKuR1pBEPbl5+dH1tvWDMFgkAwcONCVmpo6WelEU9R1heO4P/32t7/1xruSNygtLSXp6ellAASl005R1wt7RkZGZU1NTaLqOSGEkDlz5gTsdvs8pRNPUdcFQRDeeffdd+sTWssJIaFQiLRv394JoJ3SeUDJQ3tSWx6DwWCYN3/+/FSdTpfQC6tUKmi1Wn1hYaGqtra2IKEXp6jrzE/vv/9+d6Lv5g3Ky8sJwzDlSmcCJY9a6QAoeURRzJ0wYYJF7nE5OTlQqVQXvbKzs2Vf32q1om3btloAPWQfTClGq3QAlDzhcHjo4MGDozo2NzcXzz///I//NplMUZ3n7rvvNh46dGgwgENRnYBKOFrRWxat3+/n27WLri9MEISo7uJNZWVlmRiG6e12u5t9LioxaNO9ZeEtFktA6SAyMjJgNBo7KB0HFTla0VsWo9FoDEd78IcffnjRM/oHH3wQ1XnMZjMAsNHGQSUebbq3LOFwOBz1YiFNn9Hbt49uyrnf7wchxBdtHFTi0Yresjg9Hk/UX57H6hnd5XIhHA47mn0iKmFo071l8YVCoUB1dbWiQRw5ciTkcrm+VzQIShZa0VuY1NTUg7t371Y0hk2bNnmCweAORYOgZKEVvYVxuVz5BQUF9UpdPxQKYfv27ToAhUrFQFHXgxsyMzOrlBoCu2bNGmKz2eg4d4qKN7vdvn3r1q2KVPQxY8Y4AYxUOg8o6nowbNiwYc5EV/KDBw8Sq9VK13ynqESx2+1fr127NuYLQl5JOBwmAwcOdGq12mFKp52irid97Ha7o6ysLCEV/Y033qjleX4l6O4+FJUwYwGc1uv1z998882eeC8ptX79+jDP8ycBfAxgJei6cRQVVzoArwM4COBmAGAY5m9Dhw71VFdXx6WSf/XVV4TjuEoAnSHdzZ8BcBzAUKUygaJasw6Qvrv+N4C0xr9gGOa1Xr16eU6dOhXTSj5nzpygxWIpB5DVJJZBAIoBPA86FoOiYmYCgDMApl3pD4xG44Mcx3kWLFjQ7A668vJykpubW80wzD5cebNFAcAyAOsA2GOeYoq6jhgAvAtgH4DuEfx9d5Zld/Tu3du1bt062RW8qqqK/OUvf6ljGMaTlpb2IqRHhatRAfg9gJMAhjcrpRR1neoCYBeADwHIXfNpjCiK36enp3ueffbZug0bNhC3+9L1JMPhMDl+/DiZO3cuycnJcVksFrfFYpkJoI3M6/UDcBTAy6ArC1NUxH4O4DSA+5t5ng5arfZJu92+2Ww2OxmGqWnbtq2rY8eOVVar1W00Gv08z58QBOHfkB4PDM24FgPg/wBsAJDRzLgpqlVLAfARgJ2Q7ujxOH9bAB0B8IhPR9qjAE4BGBOHc1NUi9cDwF5Iz+TNubMmg2xIK8T+L679nE9R141pAM5Caj63FmkA5kP6SvAGhWOhKEWlAZgHqTJkKhxLvPw/SP0NrelDjKIidjOkEW7/QOtv3vaE9FjyFlp/WinqR1MgdViNVTqQBEoB8Amk1gvtladaNQOADwDsgDSk9Xr0K0gfcncpHQhFxUMmpAr+IVp+r3pz9QVQBGmsPJ32SrUa90C6i01VOpAkwkOa8roSdNcXqoVTQxoWehjALQrHkoxUAF6AdHfvrXAsFBUVEdLMrnwAsvczv86MgNTieUjpQChKjt6QJnn8AfQZNFLtAXwLqbNSr3AsFHVNP4d0dxqhdCAtkAHSclVbIH8GHUXF3OUmg2ggLfO0B9KkESp6jwE4AWDAFX5PV7Wh4u5mAGua/EwAUABgEYDUhEfUOg2BtKDFw01+fiOkJj59JKLiRgdpYUQC4N7zP7sZwBFIiybSwhdbGQC2AXgfUt6rAGyHlP+PKBhXi9MaC2YGgLt4nr9Do9FkEUKEUCik12g09Wq1uiwQCOytqqraAOBrAGUyz/03ANMhTUZxQups+x9Io73WxjAN1AVGALMAdAWwCsCzAMwAPAB6QeoPkaOjWq0eyfP8HSqV6qZQKJQGQKNWq30qlarI7XZvrq+vL4D0CEZilwxltZaKrtfpdA9YLJandDpdxrhx4zSDBw9O7dKlC+x2O1QqFUKhEMrKynDkyBF888033rVr14IQcsTpdL4RCoX+D0DoGtfoBamTyHz+3/UAHJCWPS6OX9Ko816EVMmN5/8dhDTScDCuXSG158vHn1JTU+333nuvfuDAgabOnTuD4zgAgM/nw7Fjx7Br167A0qVLq0+cOFEfDAbf8/l8bwPwxilNVKQ0Gs0vzWZzxcSJE73ffvttxAshhsNhsmHDBjJy5Ei3xWI5i6tPMNFB+rosDKlQNbw8ACbGPZGUClITPoRL8/9aTfgRFovlbE5OjmfHjh0Rl4+jR4+SRx99tMZsNlcZDIZfo/XcFFscgeO4DbfddpvnwIEDEb+Bl7Njxw7So0cPD8dxS9FkzfTz/gagGhcXsoaXE9JwTip+pkOq1JfLfzcuv7CFlmGYDzp27OjZtm1b1GXj+PHjZNiwYR6O4zYC4BKVYErSxWKxlPzjH/+oD4djs89gIBAgf/zjH/0MwxyHtK5ag164ciFr+PmMBKf/emKElMd1519N34MAgK24+I5r4jhu0+TJk6v9fn+zy0Y4HCZ///vf6xiGOQk6xTZhOjMMU7lq1aq47CQ6f/78IMuypyG9oU2b7CFId3AvgOWQVmmlEzISoxekcfEHIbWuvLh8E14jCMLXTz75pC/WZWPhwoVBlmXPALAqkQHXE57juDPr16+P63bB8+fPD3AcdxTAUlxoHpYAeAfA7QC0CuYBJVW0aQC+AFADwAfpfeosiuJHDz74oDdeZePTTz8N8Dz/Pej69fEjiuJXs2fPro/Xm9jY7373u1q1Wl0N4O+QNhikkpMewEhIm12s7tu3b1UwGIxr2XjkkUe8PM+/onC6WyeTyXTfT37yE1dc38FGQqEQGThwoFOr1d6hdNqpiBisVuvpEydOxL1s+P1+0qFDh0rQ1W1jziiKYmlZWVnc38TGjhw5QqxW6zHQsdVJj2GYPz777LPx3Si+keXLl4ftdvtKpdPdqqSlpf1uxowZcXvuuppJkya5NBrNT5XOA+qqtIIglFVUVCSsXITDYZKZmelE612mO/F4nj+ViCbZ5ezYsYPYbLbdSucBdVXj77333oQ91jV48803AwzDvKZ04luL7FtuucWZ6DexsXbt2rlw8XfrVBKxWq3Lly1blvBycebMGcKybInS6Y9E0j976vX6MRMnTrzcaLWrysnJgUqlgkqlglqths1mw+OPPw6/3y87hjFjxmgB3C37QCohamtrh9x+++2yjjl27BimTZuGjIwM6PV62O125ObmYvPmzRGfIyMjA6mpqQ0bVya1pK/oHMeNGDRoUFS7e9x33304dOgQ9u3bh/feew8LFy7EX//6V9nnGT58eKooiiOjiYGKu7YMw6gZhon4gP3796Nv3744c+YMPvjgA+zatQtLlizBrbfeiueee07WxQcMGAAAt8oLOfGSfuBHfX19l27dukV1LMuy6N69OwCgZ8+eWL58OQ4cOCD7PF27doVare4VVRBUvHXp0qVLWM4Bjz32GPr06YOCggKo1RfudUOGDMEf/vAHWRfPzs5OW7ZsWfdgMLhM1oEJlvR39NraWtZmszX7PEeOHMHmzZsxaNAg2cfabDYEAgE6cSU52dLT0yMepVZaWopNmzZhxowZF1XyBpf72dUIgqAxGo1Jv75d0lf0cDisNRii29jk448/htFohF6vR7du3dC7d288/fTTss9jsVgQDAZTogqCijedyWSKuBwXF0tLB9x0000//qygoABarfbHV8PfRIJhGBgMhqS/CSR9RVepVOFgMBjVsbm5udi9ezf27t2LgoICHD16FE8++aTs89TU1ECr1dZFFQQVb6FAICB7JRhCLhwyaNAg7N69G/n5+QiFQhf97lqqq6sRCoU8cq+faElf0Q0Gg6eysjKqYxue0bt3744RI0bgxRdfxMyZM+Hz+WSdx+l0QqvVuqIKgoo3Z1lZWcR3gk6dOgEADh069OPP0tLSkJWVhS5dusi/uNMZ9vl85bIPTLCWUNGPFRUVxex8wWBQ9ldsP/zwAyBNj6SSz9EjR45EvPpLeno6hgwZgry8PITDsvrwLuvgwYM19fX1PzT7RHGW9L3uNTU1G7dv395/6NChsqcFulwuHD58GABw5swZvPzyy+jXrx8EQZB1nsLCwlqHw/GV3OtTCXHS4XBo/H4/TCZTRAfMnDkTw4YNw6hRo/DEE0+gQ4cOcLlcWLBgAVQqFXS6yL/NLSwsDEGaOUc109ChQ4c65I5aGjt27EUrkTAMQyZOnEhOnTolewRU165dnQDkt+uohLDb7RvWr18v6z0tKioiDzzwAGnTpg3RarXEZrOR3Nxcsnnz5ojP4XQ6icVicSqd/tZCzbJsRWVlpdz6GRNFRUVEFMVjSmcCdWUajWbKQw89lPBJT5988kmY5/nZSqe/1WAY5m+vvvpqbaLfSEIImT59enVKSsrjSucBdVVpgiA4fL6Yrx51VdnZ2U7Q7Z5jik1PT6+sqUnYdGNCCCHl5eVEFMUy0N09k54gCG/n5eXVJapsbNmyhdjt9m1Kp7vV4Tjuj9OnT09o8+y+++5zGY3GXyiddioiTHp6enlVVVXcy0U4HCY333yzA0C20olujTSCIBz68ssv47owZIOFCxcGBEEoVDrRVOQYhnlkwoQJcZ+X/tprr/ltNtt8pdPbmnUURdG5b9++uL6R3377LWFZthRA8wfZUwkliuL6t956K25N+PXr14d5nj8JumtufGm12jttNpsrXpW9sLCQ8DzvhLSOONXyMCzLFv/73/8OxLpsbNu2jXAc5wRdFTgxtFrtnRzHVa1cuTKmzfh58+YFGYapBNBP6TRSzZLOsuzxV199tS5WO/ksX748zLKsE0BfpRN3vemZkpJSNmXKFF9zO2BKS0vJuHHjalJTU48DuFHphFExwXMct3nUqFGekpKSqMtGTU0NmT59uo9hmFMAolsYgWoWAcDp1NTUOSzLel955ZV6h0PeALrS0lLyzDPP1DIM4zEYDLMgbb9Ep6O2HmqTyfQ0wzCeF154oU5O+aitrSUffvhhyGq1ejiO+wjAzwDYlU7Q9Wg2gJfO/387juPeN5vNrhEjRlTNmjUrvHPnTuL1XvxtnMvlItu2bSN5eXmhwYMHO81ms9NsNv8DF/bSeg/SzixU62JjGGam2Wz25OTkVH3yySdk3759pK7uQp9dKBQixcXFZMmSJWTq1KkehmE8giDkA+h+/hy/A/AlWuhWTC11z+fBAP4F4BZIO2w20AEYbrFY7jEajXf4fL7MQCCQolarw6FQSGUwGGpMJtMJv9+/3uv1rgKwGdLGiQ0YAHsBjAGdrdYaGQDczfP8RLVaPaSmpqZtOBzWq9VqEg6Hw6mpqaUajea7ioqKfACrADSdmvxfAPsAvJzowK9HOkiV8a44nf9+AN+g5X4IUvHDADiC+JU9qpE/Aoj3YIV1AKbG+RpUy9QHwEkASb9OXEuWCeAM4t8p0gXAKUgdfhTV1KMANqCFPq+3BCsA/CZB13oJUj8ARV3Of0Cf1eNiKqRn50Qtf2UAsAdSxxxFNWWB9Lwub4sY6qraATiNxA9m6Q3gOAAuwdelWoYBkMZesEoH0hqoABQAeESh678AYIFC16aS34sAPlM6iNbgSQCrodzXXVoA2wD8UqHrU8lNA2ALgPuUDqQlmYYLI5EAoD+kprP18n+eMB0g9fY3jq03gEnKhEMlme6QvqVJ+h1bkkXDqq3PQarcxQCGKhrRBRMgDdRhAbwGKU66qQPV4M8A/n3+/1WQHvk6KRdO8uoOqeIQAF4A5QDeVDSiS80DUAmgGhfipItTUIA0YnMngJsgPWoSAL9XNKIk9UcAtbhwVw9DqkjPQfmBCXpId3EvpLgaYvSCjqCjLugC4BgAP6TyQTd2uIzv0WjDhUavAIB6SOOMlZB+Po66K8S3TqG4qOQyGlKLNIQLZaMGypXbpMTjQnO48csPoAzKD1q5H4ATl6/s1ZAG11DXr8m4/E3ADWkeO3XeZAAeXJxJHkjPxBYF42pMhDQEt2mcVQBGKhgXpTwjpLLatGwQAPkKxpV0VuDiu3g5krfy/BQX393DAD5SNCIqWTwAqfneuB/HA+X7mGI6CCVTrVaPEUVxfDAYvMnv9wuEEI1KpQqbTCanTqf7wel0rgwEAqsBNN4HWQep4qRB6txaAWl2UDJvLi8C+ATSOGczpJ74pt/1Z+n1+rEcx42ur6/v6vf7WQAqjUYTNJlMFWq1ep/D4VgeCoXWADiX2PCpOOoCYA2AtgBMkFp84yEtctJABDBCEIR7VCpV77q6uoxAIGAAAJ1OV2cwGEoA7K6srFwJaVWbioSm4ApGiaK4Iz093T1jxgzf8uXLSXFxMfH7/T+uvXXy5Emydu1a8swzz9TecMMNbp7nD2g0mlxIHzSjIX3yJfNd/Eoa7u4E0gAajUajmSoIwtHOnTtXvfTSS3VffPEFOXv2LKmvr/9xscGioiKSn59PHn300Rqe572iKG6EtGoO1To0bsqHALx1/ue3i6L4Ncuy3ilTpngWLFhAdu/eTRovbupyuciePXvIwoULydSpU708z3tEUdwAYLhSienI8/z2W265xbV27VoiZ1ndjRs3kkGDBrk5jjsI4HNId/hkeRaXS4T0qT2HYZgTo0eP9uzatSvivAgGg+Tzzz8nnTp1cvM8/wWkOwHVOjyA8014nue39+jRw/X555//+KEfaflYunQpycrKcnEctwvS9/SJodfr72NZ1v3JJ58EI474MvLz88Mcx3lb+G6lqrS0tJdEUayWu0d3Y6FQiOTl5QUYhqnSarUtrWVDXYFer/8bAPLmm282e4H5zz77LCwIgic1NTX+A3HMZvNTnTt39hQXFzc3bkIIIefOnSPZ2dkelmWTbRRcJFQcx80bPny4N1ab++3du5e0bdvWk5qaSgfitGwalmU/GTBggPfEiRPk2LFjMSkf5eXlZPDgwR6O4+YjXp18KSkpv77ppps8sd6xsqamhgwdOtTNsuxf4hJ4nPA8P2fChAneQCC2u/+UlJSQDh06uPV6/QSl00hFRcVx3PyJEyd6Gy8pHSuBQIBMmjSpWhCEpYjDrM6B7du3d5WXl8c8cEKkyp6VleUyGAzjYx14PDAM80j//v3d8XgjCSHk9OnTxG63V+HiGXNUC8Bx3F9Hjx7tCQab9WR7VcFgkEycONHDcdxrsYw9RRCEswcOHIhb4IQQcubMGWKz2cqh/LTUa7mxbdu2jnjvxb1161YiCEIRpDnxVAug1WqHdO3atarhW6d4qqurIz169KjSarWx6ZG32Wxvvvbaa/GPnBAyb968gN1u/09MAo8Tu92+Yd26dQnZp33GjBlelmWfVDrNVER0Npvt+KFDhxJRNAghhBQVFRGbzXYSMRiG3aZdu3YOOV8JNEc4HCbdunVzAOjR/HyPiyFDhw6Vt8lbM3g8HmK1WisgDSiikpjZbH7qqaeeqk5U2Wjw7LPP+hiGebZZwfM8/0ZeXl5iavl5ixYtClut1qRch8tms33z9ddfJzI7yDPPPFOTmppK7+rJTS+KYllFRUVCywYhhFRVVRFBEMohDdSJipphmLg/izZVV1dHOI5zI/l2Nk1PT093JTQzCCHFxcVEEIQTSieeuqoJubm5CS8bDR544AGPRqO5/0rBXWuN9IFZWVlg2cSuZqvX63H33XcTSMNjk4Zarb735z//uT7R1+3YsSM4jmMgjaOmkpDNZnv84YcfVmzu+bRp08yCIDx6pd9ftaKnpKSMHD9+fFTBz5w5EyqVCu+88040hyMnJ4fheX5sVAfHiSiKE0aOHGmK9O9zcnKgUqmgUqlgMpnQsWNHTJkyBbt375Z97bFjxxrUarVi452pq1L7/f7+Q4dGv7xhTk4OfvOb6DchGjx4MPx+fx9cYRDNVSu62Wwe1q9fv6hG38ydOxd9+/bF3Llzozkcffr0gUajGRjVwXFSV1eX3adPH1nH3HfffTh06BC2b9+Ot99+G16vF7fddhtWrFgh6zz9+/c38Tw/TNZBVKJ0tNlsoZQU5Z40DQYDbrjhhgCuMO7iqhU9EAh07tRJ/kKWR44cwZ49e7Bo0SLs378fhw4dkn2Ozp07w+fztZN9YPzoAoGAxWaTtxYky7Lo3r07evXqhXHjxiE/Px+TJ0/Go48+ikAgEPF5OnfuDLVanazfRFzvuvbs2VPpGHDTTTepcYXHu2tV9LRons/nzp2LsWPHolOnThg/fnxUd3Wj0YhgMJhMSzSlmkymYCxONGPGDJw9exbfffddxMeIoohgMEh3d01OvCiKig9qatOmjR5XGGx21YpeX19vtFjkzR4lhGD+/PmYOlWakzFt2jQsWLAA4XBY1nkAQK1WEyTPqDBLampqTCp6jx7SjfnEicg70nU6HQghulhcn4o5M8/zir83BoNBA2nF4ktctaLr9Xq/xyNvoZeNGzfC5/NhzBhpPcdRo0YhGAxiw4YNss4DoOHDISaVKwbcNTU1MfnQIYQAAFSqyOcj1NXVQaVS1cfi+lTMeZxOZ+TPYXFSW1sbgrTE2SWuWtF1Op3X6XTKutjcuXNRUVEBk8kErVYLg8GA0tJS2c33mpoa6HS6ywatkBqfzxeTit7QZ5GZmRnxMRUVFdDpdJWxuD4Vc46ysjLFb0hnz56th7RS0yWuVdGLioqKrvYnF6mtrcXixYuxcOFC7N69+8fXf//7XyxZsgQ+ny/icxUXFyMlJeV0xAfEX9BoNLpKSkqafaK8vDy0bdsWcnrwi4uLEQwGDzb74lQ8HD5w4IDSMeDAgQNhSHu2X+KqFd3tdn+9ffv2iD+pli5dCr1ej0mTJiErK+vH18SJE2E2m5GfH/nKt9u3byeBQGBTxAckgF6v37Vz505Zx7hcLhw+fBj79+/HihUrcO+992LhwoWYNWsWdLrIH+s2b97sczgcX8uNmUqIkw6HQ+X1ehULwO/3o6SkRItoKnptbW3BihUrIn5InzdvHnJycqDRXPzVu0qlkt37vnLlSk9VVdWqiA9IgMrKyvyCgoLImyUAFi1ahB49eqBfv36YPn060tLSsG3bNvzkJz+Rde01a9YEAMjv6KASgRiNxk3R9EPFyjfffAOTyfQtpKWmZVMxDFMer8UmrsTv9xOGYVxIvh1QBKvV6pazEGYsHD58mIiiGPkzFKWEe8aNG5fYSSGN5ObmuiDt+HtZ1xrrTgB8NGfOnIR2ii1atCik1+vzcYUeRAU51Gr1toKCgoRedNasWTU+n68lrql3PSkoLCz0nTuX+CX6y8vLsWHDhloAzWoBi23atKlMxIoZhEhL5HTo0MEB4MbYZEPM9evXr1/C5qNXVlYSq9VaBmkzACqJpaSk/PrXv/61J1Flo8H06dO9aWlp05udAJ7n//Lcc8/5EhH0+++/X2ez2ZJ6i6P09PSVixcvDiUiPx566CG32Wz+ldJppiKitlqtP3z33XeJKBqEEEL27dtHbDbbUcRoRVgDx3FHv/zyy7g+nB45coSIolgKILHzYuXLsNvtlaWlpfHMDrJ27dqwIAh7ce1HLCp5ZGdmZla5XPGfml5dXU1uvPHGKgD9Y5mATqIoOk+fPh2XoF0uF+nUqZNLq9XeGcug48VkMt2XlZXl9vni09ApKioigiA4AHRQOq2UPAzDPB3PFYIJkRZnueuuu9wcxzVvCanLMRgM4zt06OA+d+5cTIN2uVwkOzvbbbFYnoh50HHEcdxrd9xxhyfWlf3YsWOkTZs2bq1We5fSaaSiw/P823feeaenpqYmpmWDEEJ8Ph8ZMWKEl+f5T+KWgNTU1Glt27b17NmzJyZBFxcXk86dO3vMZvOf4hZ0HLEsm5edne0pKSmJSX5s2bKFCILg1mg045ROG9U8DMO83r17d0+sdmkhRLoJ9OjRw2OxWPIQh80bLqLVakdYLJaqN954oz7aRerD4TD5+OOPQwzDuPV6/X1xDTjOUlJSHhUEwbNkyZKo+zDq6urIn//851qLxVIB4Dal00TFhl6v/6XRaPS9/fbbweZs6BAKhci7774bZBjGYzQapyQyDek8z6/NzMx0L1y4MFxbWxtRwMFgkCxbtox0797dzXHcJiTv12hyPA1gKMdx+/r27esuKCggoVBknfI+n4/Mnj07ZLfbPRzHLYC0dfS9CqeHip2XAczjeX5N27ZtPbNnzw57vd6IK3h1dTWZM2dOuF27dh6e59cBuCGaIGJx679VEIRXQqHQoDFjxpDRo0dbevbsiTZt2sBkMqGurg5lZWU4dOgQ1q1b512+fLlKrVbvrKys/B+0jpxOXxMAABA/SURBVCGdkwHMADAEQD2AHFEUX9JoNF0nTpyoHT58eEr37t1hs9mg1+vh8/lQUlLSMPbdvX79erVOp1vncDj+AuAAgI4AvgFwN4AfFEsVFQvdAHwB4BZIW2vfLAjCC4FAYOTAgQNDY8eOZbKystSZmZngOA6ANDfi5MmTOHDgAFm1apV78+bNWr1ev87hcLwCYE+0gcSyjc8BuFMQhByNRpMdCATSQ6GQVqVShQwGQ0UoFNrrcDhWAygAUBHD6yqpO6Q3ciiApqtIZGg0mpE8z49WqVRZdXV1IiFErdFoAjqd7lwgENhZVVW1GsB6ANVNjp0I4EUAgwDIGltPJQ0VgC8BfAJgfpPfmQAMMZvNo0wm063BYLBDMBhMAQCtVuvXarUn/X7/dq/XWwBgIwB/QiOnLpICYC+uMr64mfIAzI7Tuan4+yWkD/H4dphRcfcJgDfieH49gG2QCgzVsrAATkJqulMt2DQAW3GF9bliqAOA00jefeioy3sfUicc1YL1AHAKUfZ+RmE8gH2gk1paikGQOlGj3geNUp4BwG5IlS+R8gDMSvA1KflSARwGcLvSgVDN8yakZlmiGSF9tZKjwLWpyL0DqYxQLdhIAAeh3A6vWZAeGdIVuj51dXdBKh/0EasFswA4DqC3wnHMABD5CptUotgglY9blQ6Eap5ZAP6udBCQ5qVvBfAzpQO5jjEA/nP+v4D0nqwF8HvFIqKi9h9cmMw/FFIHS7L0ovaE9B0td/7fvwctZIn0M0hrKVYAGA3geUitLDowpoUxQXojawA8COBdAMm2XfHzAH4O4GNIsUa+iRvVXEsg5TkB4IW0M0rkW+5QSWMspAkIBIAH0jBUxTfQa8IG4DtIH0YNH0rMVY+gYkEDwI0LFZ0AqMWFuzvVgsyFtAh+wxtZDWAXpMqVDG6FdBepx4UY3aDP7YkwBIATF1f0xq+nlQuNkkOFC3fzxq/g+f8qvaFEV1y5kK1QMK7rxZu4UBYav7yQ5j0oXT6oCPXBpRW9BkARgC4KxtXYaEgxNi1wHsRoyV/qik7h4jyvhvS1Wj8lg6IkKZB6qCPpNX8ZFzeJvZCa8snS494gA8D3kOJriNUJqWl5LWZI+ZFs/Q5KYSDlx7V6zTvh4udzehdXkBnA/aIofsbz/HGj0ehLS0ursVqt7rS0NJ/JZKoRRbFYEIR/Q1rcoekopqOQ3sQQpDc1mdey0wJ4C9KdvOHx4p0mf2NXq9WP2O32VRzHlRiNRj/DMNVWq9WdkpLiT0lJ8YqieIBl2XcAjEDrbxEwAKba7fYVDMOcMxqNtRzHeQVB8BiNRr/FYqm02Wzf6HS66bh00tIMSB1v9C6uoB48z//XbDZ7f/GLX3g+++wzUlxcTJouxhcIBMiRI0fI3LlzyYQJE9wWi8XDsuwcSNNB20JazSXZmurXMgZSUz4E4Oz5nw0VRfEbnue9v/3tb30rVqwgl1uPv7a2luzZs4e8//774WHDhlVZLBZHamrq3wHwiqUmPjryPL/IYrF4H3zwQe+yZcvImTNnLskPp9NJvvrqK/L000/XWq1WjyiKG3FhPEUI0gcqvYsrgGNZdq7dbve8//77Ibnrq3s8HvL6668HeJ736HS6bZDeyE+RfE31a2loyhOLxbK9W7du7sWLF1/yQXct586dI0899ZSfYRi3wWCYgZZ/h9ebzeb/FQTBk5eXF5RTPkKhEFm8eHE4MzPTw7LsSkgVfaDSCboeDbBYLOXPPfdcbXM3UHC73SQzMzNoMBhckEaetTh6vX6yVqsNTJo0KRzpCrRXcvr0aTJq1Cgvy7I7ANiVTluU2rIsu2/y5MnVVVXR72YcCATIc889V2exWMoB9FU6UdcVvV5/ryiK7i1btjSrQDct3KtXrw5zHOcCMFzpNMqRlpb2565du3qKi4sv2ySN1ttvvx2wWCznAHRWOo0ydWBZtuTjjz+OfiH1JjZu3Eh4nndptdo7lE7cdUGv109o166d6/jx47F6Dy9yfndKF2K8cV28sCz7Yt++fd1utzsu+bF69eowy7KlANopndYIWTmOO7N06dKY73Z74MABIgiCC0AvpRPZ2vW02+1V8arkDfbu3Ut4nq9E4paLioper5+YlZXl9njiuyX30qVLQxzHHYVyc/EjpRJFcce8efMC8cqLb7/9lvA8X4Lk3/G3xTKIonissLAwXu/hRVasWBESRXEPkndWUobNZqs8e/ZsQvLjlVde8dtstqbrkycVlmWfmjJlSnw/9QghH330UZ3NZluqdHpbJUEQ/vrCCy/EfmvKq3jooYfcFovlMaXTfjk2m23t559/HvPm6ZWEw2HSr18/B4ABSqf9CqwZGRnl1dXVCcmPgQMHOkB74WPO1qZNG0ek+7vFisvlIqIoViD5mqwDBwwY4ExoZhBC9uzZQ6xW60GlE385Vqt1zuzZs+PWZG/q+++/Jzabbb/S6W5VeJ5/My8vrz5Rb2Jjf/rTn2rMZvMflM6Dxmw228avv/5aiewgd955pxPJ960EI4qis66uLqF5MWDAgGRu4bQ4WpZlHS6XK6FvYoMTJ04QnudPKZ0JjWRkZGQokxmEkJUrVxKbzbZa6UxoTKfT/erxxx9PTJu9kQULFoRFUUzqfouW5K6777474c3Uxnr27OlEkgyk0Wq1Tz777LOJfYZpJBAIEIvF4kESDQO12WxbN23alPC88Hq9xGw2u5C8HbY/UisdwLVYLJZ7xo8fH9XqKUePHsUDDzyA9PR06PV6dOjQATNmzEBFhbzNXMeNG5ei0+lGRBNDrAmCMHHkyJGyK1lOTg5UKtUlr08//VTWebRaLfr27RtE8nREaXw+X6/bbrst4gNycnLwm9/85pKf5+bmYtq0aRGfJy0tDe3btw9D2lU3qSV9RTcajYP69OkjO879+/fj1ltvRWlpKebMmYNdu3Zh5syZKCkpwaxZ8jY96d+/v4HjuKR4LvX5fD379OkT1bG5ubn4/vvvL3qNHy9/05lhw4aZtVptsixtfKPdbg/q9fHeBu/ybrvtNi2AbEUuLoNW6QCupa6urmPXrl1lH/fYY48hOzsb69atg1otfU706tULY8eOhcPhkHWurl27IhwOJ8POmCaVSqW3WCxRHSwIArKzm18me/TooWVZtndlZWWzzxUDHbt06UKUuvhNN92Uptfru9XX1ysVQkRaQkU387y8WZNlZWXYtGkTli5d+mMlb0wQBFnn4zgOoVAoGRZfFCwWS0DpIFiWhVqtFpWO4zzeZrMpVo5ZllWZTCZrslf0pG+6E0JUGo282ZJHjx4FAPTsGZv+s5SUFASDQWXahhdTazSaqO9eH3744SXP6Pv3y/8qOCUlBSqVKi3aOGJMrdVqZXeGXS4vlixZIvviKSkp0Gq1ZtkHJljS39E1Gk2wtrYWRqNyU8Tdbjd0Op1PsQAuqKurq4v6wzk3NxfPP//8RT/r3Fn+xDSPxwNIi10kg3qfzxeWe9Dl8uIPf5A/XMLj8aCurk7es6ACkr6iG41GZ1lZWVpmZuRr5Hfq1AkAcPDgwagKclOlpaXQarXyuurjw+HxeKJe6y1Wz+ilpaWora092ewTxUZZSUlJSO5Bl8sLhpH/dFZaWhr0+XxnZB+YYEnfdNfpdEcOHz4s65j09HQMGTIEeXl5CIcv/bCX2xn3ww8/IBQK7ZV1UHwEDQaD6+zZs9f+yzjau3dvrdvt3q1oEBccKSoqUmwlnL1791aHw+EflLp+pJK+ojudztWbNm2S3dMxc+ZM7Nq1C/fccw/WrFmD/fv3Y/Xq1Zg0aRLee+89Wedav3691+FwrJMbQzxotdrNhYWFUR3rcDiwe/fui15lZWWyz7N+/XofgC1RBRF7ZTU1NfVyP7xjpbCwUA1guyIXlyHpK3ogEFiXn59fI/e4m2++GTt27IAgCJg2bRp69+6Nxx57DO3atcPjjz8e8XkIIVi7dm0YwHq5McRDRUXF4uXLl3ujOXbx4sXo3bv3Ra/Zs2fLOofT6cSZM2cIpL3Ak4LBYNiwYcOGhF/3xIkTCAQCLkg751DNJYrisaKiooQPcSSEkC1bthC73b5N6TxoxMRxnCvRM/kazJo1K8hx3LtKZ0ITo8aMGRP9wnBRevXVV+stFsvLSie+1UhJSXn4V7/6VdwXFLicnJwcp0ajGat0HjQmiuKHH374YcKmZDYIhUKkQ4cOTkjLYycTtSAIJSUlJQnNi4yMDCeANkonvjXRiqJ4+tSpUwl7IwmR1o8TRVFeT2BitGnfvn2l3+9PaH4sXLgwaLfbP1M68ZeTlpb2+PTp070JzotFSqe71dFoNPcMHz68KhwOJ+SNDAaDpFevXk4k6Y4cPM//5emnn07Y1EyHw0HatGlTAcCqdNqvQGO1Wo8dPHgw7nnh9XpJ+/btKwCkK53oVkkUxWX//Oc/E/Jw+sQTT9QIgvC+0mm+Cp0gCIcLCgri/skXDAbJ7bff7kpJSXlQ6URfjVarHdKjR4+qeC9AMWnSJA/Lsk8pnd7WLI3juGP5+flxXSvt3XffreM4bh+AZBj2ejU38jxfuWfPnnhmB3nwwQe9PM+3iGYqz/P/mDhxoideLb833nijThCEr9AC5qC3dO0YhimdP39+zBbnbywvL6+eZdmjkHbYbAn6cxzn+vbbb2OeF8FgkDz88MM15wt2S9meSSUIwrJp06ZVN3fHmqZmzpxZz7JsMaTNGqkEyGAY5vhTTz3lDwRi0/ns9/vJ1KlTq1mW3YuWt8lgX4vF4vjggw9i9uFXXl5OhgwZ4mFZNh/J37JpSstx3PIRI0Z4Y7GxRTAYJL///e99HMcdAiBv6iPVbGksyy7p2rWrp7lrva9bt460a9fOwzDMbCTREkkyZbAsu+uOO+7wNGfMQSgUIv/6179CHMd5TSbT02i5TVSVxWL5a3p6umf16tVR58fevXtJr169PBzHLUXyrQZ8XRnFMMzJYcOGuVatWhXxDqK1tbXk888/J71793ad/6QepHRCYkCl0+l+ZTabKydNmuTdunVrxAXa5XKRf/3rX+EbbrjBzXHcBrS8/daupB/Lsj/079/fvWbNGhJpc37nzp3kZz/7mddsNpdrNJqfKp2I5mqpn9ZNqQGMt1qtTwYCgd7Dhg0L3nHHHUzXrl1VNpsNWq0W9fX1KCsrww8//BBev369u7CwUGcwGLZWVFT8E8AXSicgxgw6nW4qy7K/U6lUmSNHjsSgQYPMHTt2hCiKUKvV8Pv9KCkpwcGDB4Pr1q3z7Nu3T6fX61c4HI5/QtqCuTVRARhns9n+FAwGs0aPHk2GDh1q6dy5MziOg1qthtfrxdGjR7Fz507fsmXLgnV1daUej+eNQCDwKYDkXlUiAq2lojdmBjDMaDQOMpvN2SqVKj0cDpvUarWfEHLW6/V+V1tbuwXSpIxkmGMebzYAd6SlpQ1MSUnpBYALh8MmjUZTHQ6HT1ZVVe0MBoObIE3MCCobakLwAO60WCxDTCbTLYQQDlJHo6e+vv6Qy+XaCqAAQNJPPaUoiqIoiqIoiqIoiqIoiqIoSgn/H0stl5B8kp1GAAAAAElFTkSuQmCC)"
      ],
      "metadata": {
        "id": "EGeAsH814Odo"
      }
    },
    {
      "cell_type": "markdown",
      "source": [
        "### 이진 탐색 트리 정의 \n",
        "- 이진 검색 트리는 각 노드에 키와 선택적 관련 값이 포함된 이진 트리입니다 . 특히 항목을 빠르게 조회, 추가 및 제거할 수 있습니다.\n",
        "\n",
        "### 이진 탐색 트리 속성 \n",
        "\n",
        "- 각 노드에 값이 있다. \n",
        "- 값들은 임의의 두 원소를 비교할 수 있는 부분 순서 집합이 있다.\n",
        "- 각 노드를 기준으로 왼쪽 subtree는 노드의 값보다 작음.\n",
        "- 각 노드를 기준으로 오른쪽 subtree는 노드의 값보다 큼.\n",
        "- 좌우 하위 트리는 각각이 다시 이진 탐색 트리여야 함.\n",
        "\n",
        "### 이진 탐색 트리에서의 검색 \n",
        "\n",
        "- 이진탐색트리에서 키 x를 가진 노드를 검색하고자 할 때, 트리에 해당 노드가 존재하면 해당 노드를 리턴하고, 존재하지 않으면 NULL을 리턴한다. \n",
        "- 검색하고자 하는 값을 루트노드와 먼저 비교하고, 일치 할 경우 루트노드를 리턴한다.\n",
        "    1. 불일치하고 검색하고자 하는 값이 루트노드의 값보다 작을 경우 왼쪽 서브트리에서 재귀적으로 검색한다. \n",
        "    2. 불일치하고 검색하고자 하는 값이 루트노드의 값보다 클 경우 오른쪽 서브트리에서 재귀적으로 검색한다.\n",
        "\n",
        "\n",
        "### 삽입\n",
        "\n",
        "- 삽입을 하기 전, 검색을 수행함.\n",
        "- 트리를 검색한 후 키와 일치하는 노드가 없으면 마지막 노드에서 키와 노드의 크기를 비교하여서 왼쪽이나 오른쪽에 새로운 노드를 삽입함.\n",
        "\n",
        "### 삭제 \n",
        "\n",
        "- 삭제하려는 노드의 자식 수에 따라 \n",
        "    1. 자식노드가 없는 노드 삭제 : 해당 노드를 단순히 삭제\n",
        "    2. 자식노드가 1개인 노드 삭제 : 해당 노드를 삭제하고 그 위치에 해당 노드의 자식 노드를 대입한다.\n",
        "    3. 자식노드가 2개인 노드 삭제 : 삭제하고자 하는 노드의 값을 해당 노드의 왼쪽 서브트리에서 가장 큰 값으로 변경하거나, 오른쪽 서브트리에서 가장 작은 값으로 변경한 뒤, 해당 노드(왼쪽서브트리에서 가장 큰 값을 가지는 노드 또는 오른쪽 서브트리에서 가장 작은 값을 가지는 노드)를 삭제한다. \n",
        "\n",
        "### 시간 복잡도\n",
        "- 속성이 잘 활용될 경우 시간 복잡도는 O(logN)\n",
        "    1. 이분 탐색 : O(logN)\n",
        "    2. n 은 트리의 노드 수\n",
        "-  최악의 경우 트리의 불균형으로 인해 전체 탐색 \n",
        "    1. 전체 탐색 : O(N)\n",
        "\n",
        "### 공간 복잡도 \n",
        "- 평균과 최악의 경우 모두 O(n)\n",
        "\n",
        "\n",
        "### 순회 유형\n",
        "- 연결 리스트와 1차원 배열과 같은 선형 자료 구조에서는 한 가지의 논리적인 순회 방법만이 존재하지만, \n",
        "\n",
        "- 트리 구조의 순회에는 많은 방법이 존재한다. \n",
        "- 이진 트리의 루트 노드에서 시작해서, 세 가지 주요 단계를 거치며 순회를 진행하는데, \n",
        "- 그 단계에는 현재 노드를 방문하는 것, 왼쪽 자식 노드를 순회하는 것과 오른쪽 자식 노드를 순회하는 것이 있다. 이러한 과정은 재귀로 쉽게 설명할 수 있다.\n",
        "\n",
        "1. Pre-order Traversal\n",
        "    - Parent-LeftChild-RightChild 순서로 노드를 방문\n",
        "    - 노드를 방문한다.\n",
        "    - 왼쪽 서브 트리를 전위 순회한다.\n",
        "    - 오른쪽 서브 트리를 전위 순회한다.\n",
        "    - 전위 순회는 깊이 우선 순회(depth-first traversal)라고도 한다.\n",
        "\n",
        "2. In-order Traversal\n",
        "    - LeftChild -Parent-RightChild 순서 로 노드를 방문\n",
        "    - 왼쪽 서브 트리를 중위 순회한다.\n",
        "    - 노드를 방문한다.\n",
        "    - 오른쪽 서브 트리를 중위 순회한다.\n",
        "    - 중위 순회는 대칭 순회(symmetric)라고도 한다.\n",
        "\n",
        "3. Post-order Traversal\n",
        "    - LeftChild-RightChild-Parent 순서로 노드를 방문\n",
        "    - 왼쪽 서브 트리를 후위 순회한다.\n",
        "    - 오른쪽 서브 트리를 후위 순회한다.\n",
        "    - 노드를 방문한다."
      ],
      "metadata": {
        "id": "HEURfPy7xHZ8"
      }
    },
    {
      "cell_type": "markdown",
      "source": [
        "출처 : https://ko.wikipedia.org/wiki/%EC%9D%B4%EC%A7%84_%ED%83%90%EC%83%89_%ED%8A%B8%EB%A6%AC\n",
        "\n",
        "출처 : https://www.educative.io/edpresso/what-is-a-binary-search-tree\n",
        "\n",
        "출처 : https://ko.wikipedia.org/wiki/%ED%8A%B8%EB%A6%AC_%EC%88%9C%ED%9A%8C"
      ],
      "metadata": {
        "id": "e8CDCuTO1aEq"
      }
    }
  ]
}