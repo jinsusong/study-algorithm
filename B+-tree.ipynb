{
  "nbformat": 4,
  "nbformat_minor": 0,
  "metadata": {
    "colab": {
      "name": "B+tree.ipynb",
      "private_outputs": true,
      "provenance": [],
      "authorship_tag": "ABX9TyPVl9L6mbrsZAwhHQa0FiEh",
      "include_colab_link": true
    },
    "kernelspec": {
      "name": "python3",
      "display_name": "Python 3"
    },
    "language_info": {
      "name": "python"
    }
  },
  "cells": [
    {
      "cell_type": "markdown",
      "metadata": {
        "id": "view-in-github",
        "colab_type": "text"
      },
      "source": [
        "<a href=\"https://colab.research.google.com/github/jinsusong/study-algorithm/blob/main/B%2B-tree.ipynb\" target=\"_parent\"><img src=\"https://colab.research.google.com/assets/colab-badge.svg\" alt=\"Open In Colab\"/></a>"
      ]
    },
    {
      "cell_type": "markdown",
      "source": [
        "# B-Tree"
      ],
      "metadata": {
        "id": "4JvMxcA6LGLn"
      }
    },
    {
      "cell_type": "markdown",
      "source": [
        "![image.png](data:image/png;base64,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)"
      ],
      "metadata": {
        "id": "SE_1_kHBZ7RZ"
      }
    },
    {
      "cell_type": "markdown",
      "source": [
        "### B-Tree 정의\n",
        "-  트리 자료구조의 일종으로, 이진 트리를 확장해 하나의 노드가 가질 수 있는 자식 노드의 최대 숫자가 2보다 큰 트리 구조\n",
        "- 방대한 양의 저장된 자료를 검색해야 하는 경우 검색어와 자료를 일일이 비교하는 방식은 비효율적이다. \n",
        "- B-트리는 자료를 정렬된 상태로 보관하고, 삽입 및 삭제를 대수 시간으로 할 수 있다. 대부분의 이진 트리는 항목이 삽입될 때 하향식으로 구성되는 데 반해, B-트리는 일반적으로 상향식으로 구성\n",
        "- B-트리의 기본 개념은 내부 노드의 자식 노드의 수가 미리 정해진 범위 내에서 변경가능하다는 것이다. \n",
        "- 항목이 삽입되거나 삭제될 때, 내부 노드는 해당 범위의 자식 노드의 수를 만족시키기 위해 분리되거나 혹은 다른 노드와 합쳐지게 된다\n",
        "\n",
        "### B-Tree 노드 구조\n",
        "- 하나의 노드에 여러자료가 배치되는 트리구조 \n",
        "- 노드는 n+1자식노드를 가리키는 포인터로 구성\n",
        "- 한 노드에 M개의 자료가 배치되면 M차 B-Tree \n",
        "    1. M이 짝수냐 홀수냐에 따라 알고리즘이 다름\n",
        "    2. M은 노드가 가질 수 있는 최대 값의 수로 꼭 모든 노드가 M개의 값을 가지고 있어야 하는건 아님. 최대갯수를 의미함.\n",
        "   \n",
        "\n",
        "### B-Tree 규칙\n",
        "- 노드의 자료수가 N이라면, 자식의 수는 N+1이어야 한다.\n",
        "- 각 노드의 자료는 정렬된 상태여야 한다.\n",
        "- 노드의 자료 Dk의 왼쪽 서브트리는 Dk보다 작은 값들이고, Dk의 오른쪽 서브트리는 Dk보다 큰 값들이어야 한다. \n",
        "- 각 노드의 항목은 부트리를 나누는 구분 값\n",
        "- 예를 들어, 어떤 내부 노드가 3개의 자식 노드(혹은 서브트리)를 가지고 있다면, 그 내부 노드는 두개의 구분 값이나 항목 a1과 a2를 가지고 있어야 한다. \n",
        "    1. 가장 왼쪽 서브트리에 있는 모든 값은 a1보다 작으며, \n",
        "    2. 가운데 서브트리의 모든 값은 a1와 a2의 사이에 있으며, \n",
        "    3. 가장 오른쪽 서브트리의 모든 값은 a2보다 크게 된다.\n",
        "\n",
        "### B-Tree 규칙2 \n",
        "- Root노드는 적어도 2개 이상의 자식을 가져야 한다.\n",
        "- Root노드를 제외한 모든 노드는 적어도 M/2개의 자료를 가지고 있어야 한다.\n",
        "- 외부노드로 가는 경로의 길이는 모두 같다.\n",
        "    - 외부노드는 모두 같은 레벨에 있다.\n",
        "- 입력자료는 중복될 수 없다.\n",
        "\n",
        "### B-Tree 장점 \n",
        "- 각 내부 노드에 있는 자식 노드의 수를 최대화함으로써, 트리의 높이는 감소하며, 균형맞춤은 덜 일어나고, 효율은 증가하게 된다\n",
        "\n",
        "### B-Tree 탐색 알고리즘\n",
        "- 이진 탐색 트리와 동일한 방식으로 수행\n",
        "- 루트에서 시작하여, 하향식으로 탐색 대상의 값을 구분 값과 비교하며 자식 포인터를 찾아나가는 과정으로 진행\n",
        "\n",
        "### B-Tree 삽입 알고리즘 \n",
        "- 자료는 항상 Leaf 노드에 추가된다.\n",
        "    - Leaf노드의 선택은 삽입될 키의 하향 탐색에 의해 결정\n",
        "   \n",
        "- 추가될 Leaf 노드에 여유가 있다면 그냥 삽입\n",
        "- 추가될 Leaf 노드에 여유가 없다면 '분할' 하기\n",
        "- 분할을 위해서는 키 하나를 부모로 올려야 함.\n",
        "    - 부모가 꽉 차 있다면 문제!\n",
        "- 삽입을 위한 하향탐색을 하면서 꽉찬 노드는 분할해 주어야함.\n"
      ],
      "metadata": {
        "id": "d_tgFmzBLJGq"
      }
    },
    {
      "cell_type": "markdown",
      "source": [
        "# B+tree"
      ],
      "metadata": {
        "id": "BW2Sj-om5psG"
      }
    },
    {
      "cell_type": "markdown",
      "source": [
        "![image.png](data:image/png;base64,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)"
      ],
      "metadata": {
        "id": "TYJDstrW_2nW"
      }
    },
    {
      "cell_type": "markdown",
      "source": [
        "### B+tree 정의\n",
        "\n",
        "- 키에 의해서 각각 식별되는 레코드의 효율적인 삽입, 검색과 삭제를 통해 정렬된 데이터를 표현하기 위한 트리자료구조의 일종\n",
        "\n",
        "- 동적이며, 각각의 인덱스 세그먼트 (보통 블록 또는 노드라고 불리는) 내에 최대와 최소범위의 키의 개수를 가지는 다계층 인덱스(multilevel index)로 구성\n",
        "\n",
        "### B트리와 비교\n",
        "- 이진탐색트리의 문제점은 정렬된 값을 b트리로 만들 경우 좌우 불균형으로 비효율적임.\n",
        "\n",
        "- \n",
        "\n",
        "- B트리와 대조적으로 B+트리는, 모든 레코드들이 트리의 가장 하위 레벨에 정렬되어있다. 오직 키들만이 내부 블록에 저장\n",
        "\n",
        "- B+트리에서 중요한 가치는 블록-지향적인 storage context(예: filesystem)에서 검색을 효율적으로 할 수 있다는 점이다. \n",
        "\n",
        "- 바이너리 서치 트리에 비해 B+트리 노드의 fanout(한 노드의 자식 노드의 수)이 훨씬 높아서 검색에 필요한 I/O 동작 회수를 줄일 수 있기 때문임.\n",
        "\n",
        "\n",
        "### 검색 알고리즘\n",
        "- B+ 트리의 루트는 트리내에 존재하는 값들의 범위를 나타낸다, 즉 모든 내부노드들은 하위 범위이다.\n",
        "\n",
        "### 접두사 키 압축 \n",
        "- 팬아웃(fan-out)을 늘리는것이 중요하다. 이유는 단말노드의 검색을 더욱 효율적으로 만들기 때문이다.\n",
        "\n",
        "### 삽입 알고리즘\n",
        "- 먼저 검색을 실시함으로써 어떤 버킷(공간)에 새로운 레코드를 넣을지를 결정\n",
        "\n",
        "1. 만약 버킷이 꽉차있지 않다면(삽입후 최대 b-1개의 엔트리), 레코드를 추가\n",
        "\n",
        "2. 버킷이 꽉차있다면, 버킷을 쪼갠다\n",
        "    - 새로운 단말노드의 메모리를 확보하고, 버킷에 든 구성요소의 절반을 새로운 노드로 옮긴다\n",
        "    - 새 단말노드의 최소 키를 부모에게 삽입한다.\n",
        "    - 만약 부모가 꽉찼다면, 부모 역시 쪼개도록 한다\n",
        "        - 부모노드에게 중간키를 추가한다\n",
        "    - 쪼개지지 않는 부모를 발견할 때까지 이를 반복한다.\n",
        "    - 트가 쪼개졌다면, 새로운 루트를 만드는데 이 루트는 1개의 키와 2개의 포인터를 지녀야 한다.(즉, 새 루트로 올라간 값은 기존 노드에서 사라진다.)\n",
        "\n",
        "### 삭제 알고리즘\n",
        "- \n",
        "\n",
        "\n",
        "\n"
      ],
      "metadata": {
        "id": "vhnd2qOE6av8"
      }
    },
    {
      "cell_type": "markdown",
      "source": [
        "출처 : https://ko.wikipedia.org/wiki/B%2B_%ED%8A%B8%EB%A6%AC\n",
        "\n",
        "출처 : https://zorba91.tistory.com/293\n",
        "\n",
        "출처 : "
      ],
      "metadata": {
        "id": "9yczhIum-rS7"
      }
    }
  ]
}